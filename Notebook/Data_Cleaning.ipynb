{
 "cells": [
  {
   "cell_type": "markdown",
   "id": "66ce48a9-cf9f-4708-8bcd-82a82f8a0de1",
   "metadata": {},
   "source": [
    "## Data Cleaning and Preprocessing"
   ]
  },
  {
   "cell_type": "markdown",
   "id": "6cd9716d-d895-4a50-a565-85f431da3077",
   "metadata": {
    "jp-MarkdownHeadingCollapsed": true
   },
   "source": [
    "### Data Cleaning"
   ]
  },
  {
   "cell_type": "code",
   "execution_count": 10,
   "id": "93f7e55c-7963-4c08-a476-a643de1ca758",
   "metadata": {},
   "outputs": [],
   "source": [
    "import pandas as pd\n",
    "import numpy as np\n",
    "import os"
   ]
  },
  {
   "cell_type": "code",
   "execution_count": 11,
   "id": "a8943aff-7b81-4b8d-b6e3-4e517367072b",
   "metadata": {},
   "outputs": [
    {
     "name": "stdout",
     "output_type": "stream",
     "text": [
      "✅ 14 dataset berhasil dimuat.\n"
     ]
    }
   ],
   "source": [
    "data_path = \"data/raw\"   \n",
    "\n",
    "files = [\n",
    "    \"Constructor_Performance.csv\",\n",
    "    \"Constructor_Rankings.csv\",\n",
    "    \"Driver_Details.csv\",\n",
    "    \"Driver_Rankings.csv\",\n",
    "    \"Lap_Timings.csv\",\n",
    "    \"Pit_Stop_Records.csv\",\n",
    "    \"Qualifying_Results.csv\",\n",
    "    \"Race_Results.csv\",\n",
    "    \"Race_Schedule.csv\",\n",
    "    \"Race_Status.csv\",\n",
    "    \"Season_Summaries.csv\",\n",
    "    \"Sprint_Race_Results.csv\",\n",
    "    \"Team_Details.csv\",\n",
    "    \"Track_Information.csv\"\n",
    "]\n",
    "\n",
    "dfs = {f.replace(\".csv\", \"\"): pd.read_csv(os.path.join(data_path, f), low_memory=False) for f in files}\n",
    "\n",
    "print(f\" {len(dfs)} dataset berhasil dimuat.\")"
   ]
  },
  {
   "cell_type": "code",
   "execution_count": 12,
   "id": "e1798053-3770-49ed-8a5d-f05dd45bd953",
   "metadata": {},
   "outputs": [
    {
     "name": "stdout",
     "output_type": "stream",
     "text": [
      "✅ Nama kolom telah dinormalisasi.\n"
     ]
    }
   ],
   "source": [
    "def clean_columns(df):\n",
    "    df.columns = (\n",
    "        df.columns\n",
    "        .str.strip()\n",
    "        .str.replace(\" \", \"_\")\n",
    "        .str.replace(\"-\", \"_\")\n",
    "        .str.replace(\"(\", \"\")\n",
    "        .str.replace(\")\", \"\")\n",
    "        .str.lower()\n",
    "    )\n",
    "    return df\n",
    "\n",
    "dfs = {name: clean_columns(df) for name, df in dfs.items()}\n",
    "print(\" Nama kolom telah dinormalisasi.\")"
   ]
  },
  {
   "cell_type": "code",
   "execution_count": 13,
   "id": "5de9063e-d3a0-4bdf-b298-36a79d562d0c",
   "metadata": {},
   "outputs": [
    {
     "name": "stdout",
     "output_type": "stream",
     "text": [
      "\n",
      "Sebelum imputasi missing values:\n",
      "qualifyid         0\n",
      "raceid            0\n",
      "driverid          0\n",
      "constructorid     0\n",
      "number            0\n",
      "position          0\n",
      "q1                0\n",
      "q2               13\n",
      "q3               27\n",
      "dtype: int64\n",
      "\n",
      "Setelah imputasi missing values:\n",
      "qualifyid        0\n",
      "raceid           0\n",
      "driverid         0\n",
      "constructorid    0\n",
      "number           0\n",
      "position         0\n",
      "q1               0\n",
      "q2               0\n",
      "q3               0\n",
      "dtype: int64\n"
     ]
    }
   ],
   "source": [
    "qual = dfs[\"Qualifying_Results\"]\n",
    "\n",
    "# missing value check\n",
    "print(\"\\nSebelum imputasi missing values:\")\n",
    "print(qual.isna().sum())\n",
    "\n",
    "# karena q2 dan q3 kosong untuk pembalap yang tidak lolos ke sesi tersebut, maka isi dengan \"DNQ\" (Did Not Qualify)\n",
    "qual[\"q2\"] = qual[\"q2\"].fillna(\"DNQ\")\n",
    "qual[\"q3\"] = qual[\"q3\"].fillna(\"DNQ\")\n",
    "\n",
    "dfs[\"Qualifying_Results\"] = qual\n",
    "\n",
    "print(\"\\nSetelah imputasi missing values:\")\n",
    "print(qual.isna().sum())"
   ]
  },
  {
   "cell_type": "code",
   "execution_count": 14,
   "id": "b35a5719-846e-4ced-b89f-fc8214748e0d",
   "metadata": {},
   "outputs": [
    {
     "name": "stdout",
     "output_type": "stream",
     "text": [
      "\n",
      "✅ Kolom tanggal di Race_Schedule telah dikonversi ke datetime.\n"
     ]
    }
   ],
   "source": [
    "schedule = dfs[\"Race_Schedule\"]\n",
    "date_cols = [\"date\", \"fp1_date\", \"fp2_date\", \"fp3_date\", \"quali_date\", \"sprint_date\"]\n",
    "\n",
    "for col in date_cols:\n",
    "    if col in schedule.columns:\n",
    "        schedule[col] = pd.to_datetime(schedule[col], errors=\"coerce\")\n",
    "\n",
    "dfs[\"Race_Schedule\"] = schedule\n",
    "print(\"\\n Kolom tanggal di Race_Schedule telah dikonversi ke datetime.\")"
   ]
  },
  {
   "cell_type": "code",
   "execution_count": 15,
   "id": "b0fb5e7b-78e4-4e4d-9080-4322e86e0d4b",
   "metadata": {},
   "outputs": [
    {
     "name": "stdout",
     "output_type": "stream",
     "text": [
      "✅ Pemeriksaan duplikasi selesai.\n"
     ]
    }
   ],
   "source": [
    "for name, df in dfs.items():\n",
    "    n_before = len(df)\n",
    "    df = df.drop_duplicates()\n",
    "    n_after = len(df)\n",
    "    dfs[name] = df\n",
    "    if n_before != n_after:\n",
    "        print(f\"⚠️ {name}: {n_before - n_after} duplikat dihapus.\")\n",
    "print(\" Pemeriksaan duplikasi selesai.\")"
   ]
  },
  {
   "cell_type": "code",
   "execution_count": 16,
   "id": "ba17b0c7-dc5e-4f36-9458-1f19e0cfae9b",
   "metadata": {},
   "outputs": [
    {
     "name": "stdout",
     "output_type": "stream",
     "text": [
      "✅ Normalisasi teks selesai.\n"
     ]
    }
   ],
   "source": [
    "if \"driver_details\" in dfs:\n",
    "    dfs[\"Driver_Details\"][\"forename\"] = dfs[\"Driver_Details\"][\"forename\"].str.lower()\n",
    "    dfs[\"Driver_Details\"][\"surname\"] = dfs[\"Driver_Details\"][\"surname\"].str.lower()\n",
    "\n",
    "if \"team_details\" in dfs:\n",
    "    dfs[\"Team_Details\"][\"name\"] = dfs[\"Team_Details\"][\"name\"].str.lower()\n",
    "\n",
    "print(\" Normalisasi teks selesai.\")"
   ]
  },
  {
   "cell_type": "code",
   "execution_count": 17,
   "id": "7b432593-1c25-41e5-82b6-dcfd10a4f03f",
   "metadata": {},
   "outputs": [
    {
     "name": "stdout",
     "output_type": "stream",
     "text": [
      "\n",
      "Ringkasan setelah cleaning:\n",
      "Constructor_Performance   | rows:   12505 | cols:  5 | missing:    0\n",
      "Constructor_Rankings      | rows:   13271 | cols:  7 | missing:    0\n",
      "Driver_Details            | rows:     859 | cols:  9 | missing:    0\n",
      "Driver_Rankings           | rows:   34595 | cols:  7 | missing:    0\n",
      "Lap_Timings               | rows:  575029 | cols:  6 | missing:    0\n",
      "Pit_Stop_Records          | rows:   10990 | cols:  7 | missing:    0\n",
      "Qualifying_Results        | rows:   10254 | cols:  9 | missing:    0\n",
      "Race_Results              | rows:   26519 | cols: 18 | missing:    0\n",
      "Race_Schedule             | rows:    1125 | cols: 18 | missing: 5265\n",
      "Race_Status               | rows:     139 | cols:  2 | missing:    0\n",
      "Season_Summaries          | rows:      75 | cols:  2 | missing:    0\n",
      "Sprint_Race_Results       | rows:     300 | cols: 16 | missing:    0\n",
      "Team_Details              | rows:     212 | cols:  5 | missing:    0\n",
      "Track_Information         | rows:      77 | cols:  9 | missing:    0\n",
      "\n",
      "✅ Semua file hasil cleaning disimpan di folder: data/processed\n"
     ]
    }
   ],
   "source": [
    "print(\"\\nRingkasan setelah cleaning:\")\n",
    "for name, df in dfs.items():\n",
    "    print(f\"{name:25s} | rows: {len(df):7d} | cols: {df.shape[1]:2d} | missing: {df.isna().sum().sum():4d}\")\n",
    "\n",
    "\n",
    "# save\n",
    "\n",
    "output_path = \"data/processed\"\n",
    "os.makedirs(output_path, exist_ok=True)\n",
    "\n",
    "for name, df in dfs.items():\n",
    "    df.to_csv(os.path.join(output_path, f\"{name}_clean.csv\"), index=False)\n",
    "\n",
    "print(f\"\\n Semua file hasil cleaning disimpan di folder: {output_path}\")"
   ]
  },
  {
   "cell_type": "code",
   "execution_count": 18,
   "id": "f67d45d9-1926-426a-a1e7-7386438e1225",
   "metadata": {},
   "outputs": [
    {
     "data": {
      "text/html": [
       "<div>\n",
       "<style scoped>\n",
       "    .dataframe tbody tr th:only-of-type {\n",
       "        vertical-align: middle;\n",
       "    }\n",
       "\n",
       "    .dataframe tbody tr th {\n",
       "        vertical-align: top;\n",
       "    }\n",
       "\n",
       "    .dataframe thead th {\n",
       "        text-align: right;\n",
       "    }\n",
       "</style>\n",
       "<table border=\"1\" class=\"dataframe\">\n",
       "  <thead>\n",
       "    <tr style=\"text-align: right;\">\n",
       "      <th></th>\n",
       "      <th>missing_count</th>\n",
       "      <th>missing_pct</th>\n",
       "    </tr>\n",
       "  </thead>\n",
       "  <tbody>\n",
       "    <tr>\n",
       "      <th>raceId</th>\n",
       "      <td>0</td>\n",
       "      <td>0.0</td>\n",
       "    </tr>\n",
       "    <tr>\n",
       "      <th>year</th>\n",
       "      <td>0</td>\n",
       "      <td>0.0</td>\n",
       "    </tr>\n",
       "    <tr>\n",
       "      <th>round</th>\n",
       "      <td>0</td>\n",
       "      <td>0.0</td>\n",
       "    </tr>\n",
       "    <tr>\n",
       "      <th>circuitId</th>\n",
       "      <td>0</td>\n",
       "      <td>0.0</td>\n",
       "    </tr>\n",
       "    <tr>\n",
       "      <th>name</th>\n",
       "      <td>0</td>\n",
       "      <td>0.0</td>\n",
       "    </tr>\n",
       "    <tr>\n",
       "      <th>date</th>\n",
       "      <td>0</td>\n",
       "      <td>0.0</td>\n",
       "    </tr>\n",
       "    <tr>\n",
       "      <th>time</th>\n",
       "      <td>0</td>\n",
       "      <td>0.0</td>\n",
       "    </tr>\n",
       "    <tr>\n",
       "      <th>url</th>\n",
       "      <td>0</td>\n",
       "      <td>0.0</td>\n",
       "    </tr>\n",
       "    <tr>\n",
       "      <th>fp1_date</th>\n",
       "      <td>0</td>\n",
       "      <td>0.0</td>\n",
       "    </tr>\n",
       "    <tr>\n",
       "      <th>fp1_time</th>\n",
       "      <td>0</td>\n",
       "      <td>0.0</td>\n",
       "    </tr>\n",
       "    <tr>\n",
       "      <th>fp2_date</th>\n",
       "      <td>0</td>\n",
       "      <td>0.0</td>\n",
       "    </tr>\n",
       "    <tr>\n",
       "      <th>fp2_time</th>\n",
       "      <td>0</td>\n",
       "      <td>0.0</td>\n",
       "    </tr>\n",
       "    <tr>\n",
       "      <th>fp3_date</th>\n",
       "      <td>0</td>\n",
       "      <td>0.0</td>\n",
       "    </tr>\n",
       "    <tr>\n",
       "      <th>fp3_time</th>\n",
       "      <td>0</td>\n",
       "      <td>0.0</td>\n",
       "    </tr>\n",
       "    <tr>\n",
       "      <th>quali_date</th>\n",
       "      <td>0</td>\n",
       "      <td>0.0</td>\n",
       "    </tr>\n",
       "    <tr>\n",
       "      <th>quali_time</th>\n",
       "      <td>0</td>\n",
       "      <td>0.0</td>\n",
       "    </tr>\n",
       "    <tr>\n",
       "      <th>sprint_date</th>\n",
       "      <td>0</td>\n",
       "      <td>0.0</td>\n",
       "    </tr>\n",
       "    <tr>\n",
       "      <th>sprint_time</th>\n",
       "      <td>0</td>\n",
       "      <td>0.0</td>\n",
       "    </tr>\n",
       "  </tbody>\n",
       "</table>\n",
       "</div>"
      ],
      "text/plain": [
       "             missing_count  missing_pct\n",
       "raceId                   0          0.0\n",
       "year                     0          0.0\n",
       "round                    0          0.0\n",
       "circuitId                0          0.0\n",
       "name                     0          0.0\n",
       "date                     0          0.0\n",
       "time                     0          0.0\n",
       "url                      0          0.0\n",
       "fp1_date                 0          0.0\n",
       "fp1_time                 0          0.0\n",
       "fp2_date                 0          0.0\n",
       "fp2_time                 0          0.0\n",
       "fp3_date                 0          0.0\n",
       "fp3_time                 0          0.0\n",
       "quali_date               0          0.0\n",
       "quali_time               0          0.0\n",
       "sprint_date              0          0.0\n",
       "sprint_time              0          0.0"
      ]
     },
     "metadata": {},
     "output_type": "display_data"
    },
    {
     "data": {
      "text/html": [
       "<div>\n",
       "<style scoped>\n",
       "    .dataframe tbody tr th:only-of-type {\n",
       "        vertical-align: middle;\n",
       "    }\n",
       "\n",
       "    .dataframe tbody tr th {\n",
       "        vertical-align: top;\n",
       "    }\n",
       "\n",
       "    .dataframe thead th {\n",
       "        text-align: right;\n",
       "    }\n",
       "</style>\n",
       "<table border=\"1\" class=\"dataframe\">\n",
       "  <thead>\n",
       "    <tr style=\"text-align: right;\">\n",
       "      <th></th>\n",
       "      <th>raceId</th>\n",
       "      <th>year</th>\n",
       "      <th>round</th>\n",
       "      <th>circuitId</th>\n",
       "      <th>name</th>\n",
       "      <th>date</th>\n",
       "      <th>time</th>\n",
       "      <th>url</th>\n",
       "      <th>fp1_date</th>\n",
       "      <th>fp1_time</th>\n",
       "      <th>fp2_date</th>\n",
       "      <th>fp2_time</th>\n",
       "      <th>fp3_date</th>\n",
       "      <th>fp3_time</th>\n",
       "      <th>quali_date</th>\n",
       "      <th>quali_time</th>\n",
       "      <th>sprint_date</th>\n",
       "      <th>sprint_time</th>\n",
       "    </tr>\n",
       "  </thead>\n",
       "  <tbody>\n",
       "  </tbody>\n",
       "</table>\n",
       "</div>"
      ],
      "text/plain": [
       "Empty DataFrame\n",
       "Columns: [raceId, year, round, circuitId, name, date, time, url, fp1_date, fp1_time, fp2_date, fp2_time, fp3_date, fp3_time, quali_date, quali_time, sprint_date, sprint_time]\n",
       "Index: []"
      ]
     },
     "metadata": {},
     "output_type": "display_data"
    },
    {
     "name": "stdout",
     "output_type": "stream",
     "text": [
      "dict_keys(['Constructor_Performance', 'Constructor_Rankings', 'Driver_Details', 'Driver_Rankings', 'Lap_Timings', 'Pit_Stop_Records', 'Qualifying_Results', 'Race_Results', 'Race_Schedule', 'Race_Status', 'Season_Summaries', 'Sprint_Race_Results', 'Team_Details', 'Track_Information'])\n"
     ]
    }
   ],
   "source": [
    "import pandas as pd\n",
    "import os\n",
    "\n",
    "race_schedule = pd.read_csv(\"data/raw/Race_Schedule.csv\")\n",
    "\n",
    "missing_summary = race_schedule.isnull().sum().to_frame('missing_count')\n",
    "missing_summary['missing_pct'] = 100 * missing_summary['missing_count'] / len(race_schedule)\n",
    "display(missing_summary)\n",
    "\n",
    "display(race_schedule[race_schedule.isnull().any(axis=1)].head(10))\n",
    "\n",
    "os.makedirs(\"data/processed\", exist_ok=True)\n",
    "\n",
    "for name, df in dfs.items():\n",
    "    df.to_csv(os.path.join(output_path, f\"{name}_clean.csv\"), index=False)\n",
    "print(dfs.keys())\n"
   ]
  },
  {
   "cell_type": "markdown",
   "id": "50fffdf5-2e7c-479e-b2a4-0d5bacb53043",
   "metadata": {
    "jp-MarkdownHeadingCollapsed": true
   },
   "source": [
    "### Data Integration"
   ]
  },
  {
   "cell_type": "code",
   "execution_count": 19,
   "id": "17ab73c1-62ef-4700-bb49-d437a0bc0518",
   "metadata": {},
   "outputs": [],
   "source": [
    "import pandas as pd\n",
    "import numpy as np\n",
    "import os\n"
   ]
  },
  {
   "cell_type": "code",
   "execution_count": 20,
   "id": "2e6e7b16-5c1e-4fa0-b6a6-0b06648d4a75",
   "metadata": {},
   "outputs": [
    {
     "name": "stdout",
     "output_type": "stream",
     "text": [
      "✅ Dataset berhasil dimuat:\n",
      "Race_Results         | rows:  26519 | cols: 18\n",
      "Driver_Details       | rows:    859 | cols:  9\n",
      "Team_Details         | rows:    212 | cols:  5\n",
      "Race_Schedule        | rows:   1125 | cols: 18\n",
      "Track_Information    | rows:     77 | cols:  9\n",
      "\n",
      "📄 Race_Results columns:\n",
      "['resultid', 'raceid', 'driverid', 'constructorid', 'number', 'grid', 'position', 'positiontext', 'positionorder', 'points', 'laps', 'time', 'milliseconds', 'fastestlap', 'rank', 'fastestlaptime', 'fastestlapspeed', 'statusid']\n",
      "\n",
      "📄 Driver_Details columns:\n",
      "['driverid', 'driverref', 'number', 'code', 'forename', 'surname', 'dob', 'nationality', 'url']\n",
      "\n",
      "📄 Team_Details columns:\n",
      "['constructorid', 'constructorref', 'name', 'nationality', 'url']\n",
      "\n",
      "📄 Race_Schedule columns:\n",
      "['raceid', 'year', 'round', 'circuitid', 'name', 'date', 'time', 'url', 'fp1_date', 'fp1_time', 'fp2_date', 'fp2_time', 'fp3_date', 'fp3_time', 'quali_date', 'quali_time', 'sprint_date', 'sprint_time']\n",
      "\n",
      "📄 Track_Information columns:\n",
      "['circuitid', 'circuitref', 'name', 'location', 'country', 'lat', 'lng', 'alt', 'url']\n"
     ]
    }
   ],
   "source": [
    "\n",
    "processed_path = \"data/processed\"\n",
    "\n",
    "dfs = {\n",
    "    \"Race_Results\": pd.read_csv(os.path.join(processed_path, \"Race_Results_clean.csv\")),\n",
    "    \"Driver_Details\": pd.read_csv(os.path.join(processed_path, \"Driver_Details_clean.csv\")),\n",
    "    \"Team_Details\": pd.read_csv(os.path.join(processed_path, \"Team_Details_clean.csv\")),\n",
    "    \"Race_Schedule\": pd.read_csv(os.path.join(processed_path, \"Race_Schedule_clean.csv\")),\n",
    "    \"Track_Information\": pd.read_csv(os.path.join(processed_path, \"Track_Information_clean.csv\"))\n",
    "}\n",
    "\n",
    "print(\" Dataset berhasil dimuat:\")\n",
    "for name, df in dfs.items():\n",
    "    print(f\"{name:20s} | rows: {len(df):6d} | cols: {df.shape[1]:2d}\")\n",
    "\n",
    "for name, df in dfs.items():\n",
    "    print(f\"\\n📄 {name} columns:\")\n",
    "    print(df.columns.tolist())\n"
   ]
  },
  {
   "cell_type": "code",
   "execution_count": 21,
   "id": "304cf762-04eb-452a-869f-a81d97d7292e",
   "metadata": {},
   "outputs": [
    {
     "name": "stdout",
     "output_type": "stream",
     "text": [
      "✅ Dataset berhasil dimuat:\n",
      "Race_Results         | rows:  26519 | cols: 18\n",
      "Driver_Details       | rows:    859 | cols:  9\n",
      "Team_Details         | rows:    212 | cols:  5\n",
      "Race_Schedule        | rows:   1125 | cols: 18\n",
      "Track_Information    | rows:     77 | cols:  9\n",
      "\n",
      "✅ Hasil integrasi data: 26519 baris x 55 kolom\n",
      "📂 Data terintegrasi disimpan ke: data/processed/Integrated_Data.csv\n"
     ]
    }
   ],
   "source": [
    "\n",
    "processed_path = \"data/processed\"\n",
    "\n",
    "dfs = {\n",
    "    \"Race_Results\": pd.read_csv(os.path.join(processed_path, \"Race_Results_clean.csv\")),\n",
    "    \"Driver_Details\": pd.read_csv(os.path.join(processed_path, \"Driver_Details_clean.csv\")),\n",
    "    \"Team_Details\": pd.read_csv(os.path.join(processed_path, \"Team_Details_clean.csv\")),\n",
    "    \"Race_Schedule\": pd.read_csv(os.path.join(processed_path, \"Race_Schedule_clean.csv\")),\n",
    "    \"Track_Information\": pd.read_csv(os.path.join(processed_path, \"Track_Information_clean.csv\"))\n",
    "}\n",
    "\n",
    "print(\" Dataset berhasil dimuat:\")\n",
    "for name, df in dfs.items():\n",
    "    print(f\"{name:20s} | rows: {len(df):6d} | cols: {df.shape[1]:2d}\")\n",
    "\n",
    "for name in [\"Driver_Details\", \"Team_Details\", \"Race_Schedule\", \"Track_Information\"]:\n",
    "    if \"url\" in dfs[name].columns:\n",
    "        dfs[name] = dfs[name].rename(columns={\"url\": f\"url_{name.lower()}\"})\n",
    "\n",
    "# data integration\n",
    "\n",
    "# Race_Results + Driver_Details\n",
    "merged = pd.merge(\n",
    "    dfs[\"Race_Results\"],\n",
    "    dfs[\"Driver_Details\"],\n",
    "    on=\"driverid\",\n",
    "    how=\"left\"\n",
    ")\n",
    "\n",
    "# + Team_Details\n",
    "merged = pd.merge(\n",
    "    merged,\n",
    "    dfs[\"Team_Details\"],\n",
    "    on=\"constructorid\",\n",
    "    how=\"left\"\n",
    ")\n",
    "\n",
    "# + Race_Schedule\n",
    "merged = pd.merge(\n",
    "    merged,\n",
    "    dfs[\"Race_Schedule\"],\n",
    "    on=\"raceid\",\n",
    "    how=\"left\"\n",
    ")\n",
    "\n",
    "# + Track_Information \n",
    "if \"Track_Information\" in dfs:\n",
    "    merged = pd.merge(\n",
    "        merged,\n",
    "        dfs[\"Track_Information\"],\n",
    "        on=\"circuitid\",\n",
    "        how=\"left\"\n",
    "    )\n",
    "\n",
    "print(f\"\\n✅ Hasil integrasi data: {merged.shape[0]} baris x {merged.shape[1]} kolom\")\n",
    "\n",
    "# save\n",
    "output_path = \"data/processed\"\n",
    "os.makedirs(output_path, exist_ok=True)\n",
    "merged.to_csv(os.path.join(output_path, \"Integrated_Data.csv\"), index=False)\n",
    "\n",
    "print(f\"📂 Data terintegrasi disimpan ke: {output_path}/Integrated_Data.csv\")\n"
   ]
  },
  {
   "cell_type": "markdown",
   "id": "be22ef90-1561-4deb-9fa5-bf58cc98726d",
   "metadata": {
    "jp-MarkdownHeadingCollapsed": true
   },
   "source": [
    "### Feature Engineering"
   ]
  },
  {
   "cell_type": "code",
   "execution_count": 22,
   "id": "9a766364-3712-4121-b9fa-7d9fe34bad4b",
   "metadata": {},
   "outputs": [],
   "source": [
    "import pandas as pd\n",
    "import numpy as np\n",
    "import os\n"
   ]
  },
  {
   "cell_type": "code",
   "execution_count": null,
   "id": "a44f2bfc-6576-4df7-9882-3544aa4502bb",
   "metadata": {},
   "outputs": [
    {
     "name": "stdout",
     "output_type": "stream",
     "text": [
      " Integrated data loaded: 26519 rows × 55 columns\n",
      "grid          int64\n",
      "position    float64\n",
      "points      float64\n",
      "dtype: object\n",
      "grid            0\n",
      "position    10928\n",
      "points          0\n",
      "dtype: int64\n",
      "   driverid  total_races  total_wins  total_podiums  total_points   avg_grid  \\\n",
      "0         1          344         104            199        4713.5   4.159884   \n",
      "1         2          184           0             13         259.0  11.336957   \n",
      "2         3          206          23             57        1594.5   6.902913   \n",
      "3         4          392          32            106        2304.0   8.566327   \n",
      "4         5          112           1              4         105.0  13.741071   \n",
      "\n",
      "   avg_position  win_rate  podium_rate  \n",
      "0      3.568254  0.302326     0.578488  \n",
      "1      8.355072  0.000000     0.070652  \n",
      "2      6.355932  0.111650     0.276699  \n",
      "3      6.349845  0.081633     0.270408  \n",
      "4     11.835165  0.008929     0.035714  \n",
      "\n",
      " Feature engineering selesai!\n",
      " - data/processed/F1_Integrated_Features.csv\n",
      " - data/processed/Driver_Seasonal_Features.csv\n",
      "\n"
     ]
    }
   ],
   "source": [
    "integrated_path = \"data/processed/Integrated_Data.csv\"\n",
    "df = pd.read_csv(integrated_path)\n",
    "\n",
    "print(f\" Integrated data loaded: {df.shape[0]} rows × {df.shape[1]} columns\")\n",
    "\n",
    "df.columns = df.columns.str.lower()\n",
    "\n",
    "# Add the wins and podiums column\n",
    "def classify_finish(pos):\n",
    "    try:\n",
    "        pos = int(pos)\n",
    "        if pos == 1:\n",
    "            return \"win\"\n",
    "        elif pos in [2, 3]:\n",
    "            return \"podium\"\n",
    "        else:\n",
    "            return \"finish\"\n",
    "    except:\n",
    "        return np.nan\n",
    "\n",
    "df[\"finish_category\"] = df[\"position\"].apply(classify_finish)\n",
    "\n",
    "# Data cleaning for numeric columns \n",
    "numeric_cols = [\"grid\", \"position\", \"points\"]\n",
    "\n",
    "# Replace non-numeric values like '\\N' or empty strings with NaN, then convert\n",
    "for col in numeric_cols:\n",
    "    df[col] = pd.to_numeric(df[col], errors=\"coerce\")\n",
    "\n",
    "# Check if conversion worked\n",
    "print(df[numeric_cols].dtypes)\n",
    "print(df[numeric_cols].isna().sum())\n",
    "\n",
    "# Calculate driver performance metrics\n",
    "driver_perf = (\n",
    "    df.groupby(\"driverid\")\n",
    "    .agg(\n",
    "        total_races=(\"raceid\", \"count\"),\n",
    "        total_wins=(\"finish_category\", lambda x: (x == \"win\").sum()),\n",
    "        total_podiums=(\"finish_category\", lambda x: (x.isin([\"win\", \"podium\"])).sum()),\n",
    "        total_points=(\"points\", \"sum\"),\n",
    "        avg_grid=(\"grid\", \"mean\"),\n",
    "        avg_position=(\"position\", \"mean\"),\n",
    "    )\n",
    "    .reset_index()\n",
    ")\n",
    "\n",
    "driver_perf[\"win_rate\"] = driver_perf[\"total_wins\"] / driver_perf[\"total_races\"]\n",
    "driver_perf[\"podium_rate\"] = driver_perf[\"total_podiums\"] / driver_perf[\"total_races\"]\n",
    "\n",
    "print(driver_perf.head())\n",
    "\n",
    "# Combine metrics with primary data\n",
    "df = df.merge(driver_perf[[\"driverid\", \"win_rate\", \"podium_rate\", \"avg_position\"]], on=\"driverid\", how=\"left\")\n",
    "\n",
    "# Era classification (based on year) \n",
    "def classify_era(year):\n",
    "    if year < 1990:\n",
    "        return \"Pre-Modern\"\n",
    "    elif 1990 <= year < 2014:\n",
    "        return \"V8 Era\"\n",
    "    elif 2014 <= year < 2022:\n",
    "        return \"Hybrid Turbo Era\"\n",
    "    else:\n",
    "        return \"Ground Effect Era\"\n",
    "\n",
    "df[\"f1_era\"] = df[\"year\"].apply(classify_era)\n",
    "\n",
    "# Seasonal aggregation (driver x season) \n",
    "seasonal_driver = (\n",
    "    df.groupby([\"year\", \"driverid\"])\n",
    "    .agg(\n",
    "        total_races=(\"raceid\", \"nunique\"),\n",
    "        total_points=(\"points\", \"sum\"),\n",
    "        avg_position=(\"position\", \"mean\"),\n",
    "        wins=(\"finish_category\", lambda x: (x == \"win\").sum()),\n",
    "        podiums=(\"finish_category\", lambda x: (x.isin([\"win\", \"podium\"])).sum()),\n",
    "    )\n",
    "    .reset_index()\n",
    ")\n",
    "seasonal_driver[\"win_rate\"] = seasonal_driver[\"wins\"] / seasonal_driver[\"total_races\"]\n",
    "seasonal_driver[\"podium_rate\"] = seasonal_driver[\"podiums\"] / seasonal_driver[\"total_races\"]\n",
    "\n",
    "# Performance trend \n",
    "seasonal_driver[\"trend_points_ma3\"] = (\n",
    "    seasonal_driver.groupby(\"driverid\")[\"total_points\"].transform(lambda x: x.rolling(3, min_periods=1).mean())\n",
    ")\n",
    "\n",
    "# save\n",
    "output_path = \"data/processed\"\n",
    "os.makedirs(output_path, exist_ok=True)\n",
    "df.to_csv(os.path.join(output_path, \"F1_Integrated_Features.csv\"), index=False)\n",
    "seasonal_driver.to_csv(os.path.join(output_path, \"Driver_Seasonal_Features.csv\"), index=False)\n",
    "\n",
    "print(f\"\"\"\n",
    " Feature engineering selesai!\n",
    " - {output_path}/F1_Integrated_Features.csv\n",
    " - {output_path}/Driver_Seasonal_Features.csv\n",
    "\"\"\")"
   ]
  },
  {
   "cell_type": "code",
   "execution_count": null,
   "id": "63c9b557-9be6-436c-ab48-63882998dfd3",
   "metadata": {},
   "outputs": [
    {
     "data": {
      "application/vnd.plotly.v1+json": {
       "config": {
        "plotlyServerURL": "https://plot.ly"
       },
       "data": [
        {
         "hovertemplate": "circuitref=%{x}<br>points=%{y}<extra></extra>",
         "legendgroup": "",
         "marker": {
          "color": "#636efa",
          "pattern": {
           "shape": ""
          }
         },
         "name": "",
         "orientation": "v",
         "showlegend": false,
         "textposition": "auto",
         "type": "bar",
         "x": [
          "vegas",
          "mugello",
          "portimao",
          "jeddah",
          "losail",
          "miami",
          "baku",
          "sochi",
          "americas",
          "yas_marina",
          "marina_bay",
          "buddh",
          "yeongam",
          "bahrain",
          "shanghai",
          "valencia",
          "istanbul",
          "albert_park",
          "sepang",
          "catalunya"
         ],
         "xaxis": "x",
         "y": {
          "bdata": "ZmZmZmZmFEBmZmZmZmYUQGZmZmZmZhRAZmZmZmZmFEBmZmZmZmYUQFVVVVVVVRRAAAAAAAAAFEAeL7YE3+YTQJHA2w8JvBNAeLW4CfO7E0A+bH0bMFQRQAd1UAd1UBFA5QpicgUxEUDpoosuuugPQPOEWsCYxA1Abtu2bds2C0CrqqqqqgoJQLYl626GkQhA3cF+q42hBkAGAlbHlzIGQA==",
          "dtype": "f8"
         },
         "yaxis": "y"
        }
       ],
       "layout": {
        "barmode": "relative",
        "legend": {
         "tracegroupgap": 0
        },
        "template": {
         "data": {
          "bar": [
           {
            "error_x": {
             "color": "#2a3f5f"
            },
            "error_y": {
             "color": "#2a3f5f"
            },
            "marker": {
             "line": {
              "color": "#E5ECF6",
              "width": 0.5
             },
             "pattern": {
              "fillmode": "overlay",
              "size": 10,
              "solidity": 0.2
             }
            },
            "type": "bar"
           }
          ],
          "barpolar": [
           {
            "marker": {
             "line": {
              "color": "#E5ECF6",
              "width": 0.5
             },
             "pattern": {
              "fillmode": "overlay",
              "size": 10,
              "solidity": 0.2
             }
            },
            "type": "barpolar"
           }
          ],
          "carpet": [
           {
            "aaxis": {
             "endlinecolor": "#2a3f5f",
             "gridcolor": "white",
             "linecolor": "white",
             "minorgridcolor": "white",
             "startlinecolor": "#2a3f5f"
            },
            "baxis": {
             "endlinecolor": "#2a3f5f",
             "gridcolor": "white",
             "linecolor": "white",
             "minorgridcolor": "white",
             "startlinecolor": "#2a3f5f"
            },
            "type": "carpet"
           }
          ],
          "choropleth": [
           {
            "colorbar": {
             "outlinewidth": 0,
             "ticks": ""
            },
            "type": "choropleth"
           }
          ],
          "contour": [
           {
            "colorbar": {
             "outlinewidth": 0,
             "ticks": ""
            },
            "colorscale": [
             [
              0,
              "#0d0887"
             ],
             [
              0.1111111111111111,
              "#46039f"
             ],
             [
              0.2222222222222222,
              "#7201a8"
             ],
             [
              0.3333333333333333,
              "#9c179e"
             ],
             [
              0.4444444444444444,
              "#bd3786"
             ],
             [
              0.5555555555555556,
              "#d8576b"
             ],
             [
              0.6666666666666666,
              "#ed7953"
             ],
             [
              0.7777777777777778,
              "#fb9f3a"
             ],
             [
              0.8888888888888888,
              "#fdca26"
             ],
             [
              1,
              "#f0f921"
             ]
            ],
            "type": "contour"
           }
          ],
          "contourcarpet": [
           {
            "colorbar": {
             "outlinewidth": 0,
             "ticks": ""
            },
            "type": "contourcarpet"
           }
          ],
          "heatmap": [
           {
            "colorbar": {
             "outlinewidth": 0,
             "ticks": ""
            },
            "colorscale": [
             [
              0,
              "#0d0887"
             ],
             [
              0.1111111111111111,
              "#46039f"
             ],
             [
              0.2222222222222222,
              "#7201a8"
             ],
             [
              0.3333333333333333,
              "#9c179e"
             ],
             [
              0.4444444444444444,
              "#bd3786"
             ],
             [
              0.5555555555555556,
              "#d8576b"
             ],
             [
              0.6666666666666666,
              "#ed7953"
             ],
             [
              0.7777777777777778,
              "#fb9f3a"
             ],
             [
              0.8888888888888888,
              "#fdca26"
             ],
             [
              1,
              "#f0f921"
             ]
            ],
            "type": "heatmap"
           }
          ],
          "histogram": [
           {
            "marker": {
             "pattern": {
              "fillmode": "overlay",
              "size": 10,
              "solidity": 0.2
             }
            },
            "type": "histogram"
           }
          ],
          "histogram2d": [
           {
            "colorbar": {
             "outlinewidth": 0,
             "ticks": ""
            },
            "colorscale": [
             [
              0,
              "#0d0887"
             ],
             [
              0.1111111111111111,
              "#46039f"
             ],
             [
              0.2222222222222222,
              "#7201a8"
             ],
             [
              0.3333333333333333,
              "#9c179e"
             ],
             [
              0.4444444444444444,
              "#bd3786"
             ],
             [
              0.5555555555555556,
              "#d8576b"
             ],
             [
              0.6666666666666666,
              "#ed7953"
             ],
             [
              0.7777777777777778,
              "#fb9f3a"
             ],
             [
              0.8888888888888888,
              "#fdca26"
             ],
             [
              1,
              "#f0f921"
             ]
            ],
            "type": "histogram2d"
           }
          ],
          "histogram2dcontour": [
           {
            "colorbar": {
             "outlinewidth": 0,
             "ticks": ""
            },
            "colorscale": [
             [
              0,
              "#0d0887"
             ],
             [
              0.1111111111111111,
              "#46039f"
             ],
             [
              0.2222222222222222,
              "#7201a8"
             ],
             [
              0.3333333333333333,
              "#9c179e"
             ],
             [
              0.4444444444444444,
              "#bd3786"
             ],
             [
              0.5555555555555556,
              "#d8576b"
             ],
             [
              0.6666666666666666,
              "#ed7953"
             ],
             [
              0.7777777777777778,
              "#fb9f3a"
             ],
             [
              0.8888888888888888,
              "#fdca26"
             ],
             [
              1,
              "#f0f921"
             ]
            ],
            "type": "histogram2dcontour"
           }
          ],
          "mesh3d": [
           {
            "colorbar": {
             "outlinewidth": 0,
             "ticks": ""
            },
            "type": "mesh3d"
           }
          ],
          "parcoords": [
           {
            "line": {
             "colorbar": {
              "outlinewidth": 0,
              "ticks": ""
             }
            },
            "type": "parcoords"
           }
          ],
          "pie": [
           {
            "automargin": true,
            "type": "pie"
           }
          ],
          "scatter": [
           {
            "fillpattern": {
             "fillmode": "overlay",
             "size": 10,
             "solidity": 0.2
            },
            "type": "scatter"
           }
          ],
          "scatter3d": [
           {
            "line": {
             "colorbar": {
              "outlinewidth": 0,
              "ticks": ""
             }
            },
            "marker": {
             "colorbar": {
              "outlinewidth": 0,
              "ticks": ""
             }
            },
            "type": "scatter3d"
           }
          ],
          "scattercarpet": [
           {
            "marker": {
             "colorbar": {
              "outlinewidth": 0,
              "ticks": ""
             }
            },
            "type": "scattercarpet"
           }
          ],
          "scattergeo": [
           {
            "marker": {
             "colorbar": {
              "outlinewidth": 0,
              "ticks": ""
             }
            },
            "type": "scattergeo"
           }
          ],
          "scattergl": [
           {
            "marker": {
             "colorbar": {
              "outlinewidth": 0,
              "ticks": ""
             }
            },
            "type": "scattergl"
           }
          ],
          "scattermap": [
           {
            "marker": {
             "colorbar": {
              "outlinewidth": 0,
              "ticks": ""
             }
            },
            "type": "scattermap"
           }
          ],
          "scattermapbox": [
           {
            "marker": {
             "colorbar": {
              "outlinewidth": 0,
              "ticks": ""
             }
            },
            "type": "scattermapbox"
           }
          ],
          "scatterpolar": [
           {
            "marker": {
             "colorbar": {
              "outlinewidth": 0,
              "ticks": ""
             }
            },
            "type": "scatterpolar"
           }
          ],
          "scatterpolargl": [
           {
            "marker": {
             "colorbar": {
              "outlinewidth": 0,
              "ticks": ""
             }
            },
            "type": "scatterpolargl"
           }
          ],
          "scatterternary": [
           {
            "marker": {
             "colorbar": {
              "outlinewidth": 0,
              "ticks": ""
             }
            },
            "type": "scatterternary"
           }
          ],
          "surface": [
           {
            "colorbar": {
             "outlinewidth": 0,
             "ticks": ""
            },
            "colorscale": [
             [
              0,
              "#0d0887"
             ],
             [
              0.1111111111111111,
              "#46039f"
             ],
             [
              0.2222222222222222,
              "#7201a8"
             ],
             [
              0.3333333333333333,
              "#9c179e"
             ],
             [
              0.4444444444444444,
              "#bd3786"
             ],
             [
              0.5555555555555556,
              "#d8576b"
             ],
             [
              0.6666666666666666,
              "#ed7953"
             ],
             [
              0.7777777777777778,
              "#fb9f3a"
             ],
             [
              0.8888888888888888,
              "#fdca26"
             ],
             [
              1,
              "#f0f921"
             ]
            ],
            "type": "surface"
           }
          ],
          "table": [
           {
            "cells": {
             "fill": {
              "color": "#EBF0F8"
             },
             "line": {
              "color": "white"
             }
            },
            "header": {
             "fill": {
              "color": "#C8D4E3"
             },
             "line": {
              "color": "white"
             }
            },
            "type": "table"
           }
          ]
         },
         "layout": {
          "annotationdefaults": {
           "arrowcolor": "#2a3f5f",
           "arrowhead": 0,
           "arrowwidth": 1
          },
          "autotypenumbers": "strict",
          "coloraxis": {
           "colorbar": {
            "outlinewidth": 0,
            "ticks": ""
           }
          },
          "colorscale": {
           "diverging": [
            [
             0,
             "#8e0152"
            ],
            [
             0.1,
             "#c51b7d"
            ],
            [
             0.2,
             "#de77ae"
            ],
            [
             0.3,
             "#f1b6da"
            ],
            [
             0.4,
             "#fde0ef"
            ],
            [
             0.5,
             "#f7f7f7"
            ],
            [
             0.6,
             "#e6f5d0"
            ],
            [
             0.7,
             "#b8e186"
            ],
            [
             0.8,
             "#7fbc41"
            ],
            [
             0.9,
             "#4d9221"
            ],
            [
             1,
             "#276419"
            ]
           ],
           "sequential": [
            [
             0,
             "#0d0887"
            ],
            [
             0.1111111111111111,
             "#46039f"
            ],
            [
             0.2222222222222222,
             "#7201a8"
            ],
            [
             0.3333333333333333,
             "#9c179e"
            ],
            [
             0.4444444444444444,
             "#bd3786"
            ],
            [
             0.5555555555555556,
             "#d8576b"
            ],
            [
             0.6666666666666666,
             "#ed7953"
            ],
            [
             0.7777777777777778,
             "#fb9f3a"
            ],
            [
             0.8888888888888888,
             "#fdca26"
            ],
            [
             1,
             "#f0f921"
            ]
           ],
           "sequentialminus": [
            [
             0,
             "#0d0887"
            ],
            [
             0.1111111111111111,
             "#46039f"
            ],
            [
             0.2222222222222222,
             "#7201a8"
            ],
            [
             0.3333333333333333,
             "#9c179e"
            ],
            [
             0.4444444444444444,
             "#bd3786"
            ],
            [
             0.5555555555555556,
             "#d8576b"
            ],
            [
             0.6666666666666666,
             "#ed7953"
            ],
            [
             0.7777777777777778,
             "#fb9f3a"
            ],
            [
             0.8888888888888888,
             "#fdca26"
            ],
            [
             1,
             "#f0f921"
            ]
           ]
          },
          "colorway": [
           "#636efa",
           "#EF553B",
           "#00cc96",
           "#ab63fa",
           "#FFA15A",
           "#19d3f3",
           "#FF6692",
           "#B6E880",
           "#FF97FF",
           "#FECB52"
          ],
          "font": {
           "color": "#2a3f5f"
          },
          "geo": {
           "bgcolor": "white",
           "lakecolor": "white",
           "landcolor": "#E5ECF6",
           "showlakes": true,
           "showland": true,
           "subunitcolor": "white"
          },
          "hoverlabel": {
           "align": "left"
          },
          "hovermode": "closest",
          "mapbox": {
           "style": "light"
          },
          "paper_bgcolor": "white",
          "plot_bgcolor": "#E5ECF6",
          "polar": {
           "angularaxis": {
            "gridcolor": "white",
            "linecolor": "white",
            "ticks": ""
           },
           "bgcolor": "#E5ECF6",
           "radialaxis": {
            "gridcolor": "white",
            "linecolor": "white",
            "ticks": ""
           }
          },
          "scene": {
           "xaxis": {
            "backgroundcolor": "#E5ECF6",
            "gridcolor": "white",
            "gridwidth": 2,
            "linecolor": "white",
            "showbackground": true,
            "ticks": "",
            "zerolinecolor": "white"
           },
           "yaxis": {
            "backgroundcolor": "#E5ECF6",
            "gridcolor": "white",
            "gridwidth": 2,
            "linecolor": "white",
            "showbackground": true,
            "ticks": "",
            "zerolinecolor": "white"
           },
           "zaxis": {
            "backgroundcolor": "#E5ECF6",
            "gridcolor": "white",
            "gridwidth": 2,
            "linecolor": "white",
            "showbackground": true,
            "ticks": "",
            "zerolinecolor": "white"
           }
          },
          "shapedefaults": {
           "line": {
            "color": "#2a3f5f"
           }
          },
          "ternary": {
           "aaxis": {
            "gridcolor": "white",
            "linecolor": "white",
            "ticks": ""
           },
           "baxis": {
            "gridcolor": "white",
            "linecolor": "white",
            "ticks": ""
           },
           "bgcolor": "#E5ECF6",
           "caxis": {
            "gridcolor": "white",
            "linecolor": "white",
            "ticks": ""
           }
          },
          "title": {
           "x": 0.05
          },
          "xaxis": {
           "automargin": true,
           "gridcolor": "white",
           "linecolor": "white",
           "ticks": "",
           "title": {
            "standoff": 15
           },
           "zerolinecolor": "white",
           "zerolinewidth": 2
          },
          "yaxis": {
           "automargin": true,
           "gridcolor": "white",
           "linecolor": "white",
           "ticks": "",
           "title": {
            "standoff": 15
           },
           "zerolinecolor": "white",
           "zerolinewidth": 2
          }
         }
        },
        "title": {
         "text": "Top Circuits by Average Points"
        },
        "xaxis": {
         "anchor": "y",
         "domain": [
          0,
          1
         ],
         "title": {
          "text": "circuitref"
         }
        },
        "yaxis": {
         "anchor": "x",
         "domain": [
          0,
          1
         ],
         "title": {
          "text": "points"
         }
        }
       }
      },
      "image/png": "[encoded data removed]"
     },
     "metadata": {},
     "output_type": "display_data"
    },
    {
     "name": "stdout",
     "output_type": "stream",
     "text": [
      "Kolom 'pitstops' tidak ditemukan — menggunakan proxy (laps/grid) sebagai indikator strategi.\n"
     ]
    },
    {
     "data": {
      "image/png": "[encoded data removed]",
      "text/plain": [
       "<Figure size 800x600 with 1 Axes>"
      ]
     },
     "metadata": {},
     "output_type": "display_data"
    },
    {
     "data": {
      "application/vnd.plotly.v1+json": {
       "config": {
        "plotlyServerURL": "https://plot.ly"
       },
       "data": [
        {
         "hovertemplate": "driverref=albon<br>round=%{x}<br>points=%{y}<extra></extra>",
         "legendgroup": "albon",
         "marker": {
          "color": "#00A0DD",
          "pattern": {
           "shape": ""
          }
         },
         "name": "albon",
         "orientation": "v",
         "showlegend": true,
         "textposition": "auto",
         "type": "bar",
         "x": {
          "bdata": "AQIDBAUGBwgJCgsM",
          "dtype": "i1"
         },
         "xaxis": "x",
         "y": {
          "bdata": "AAAAAAAAAAAAAAAAAAAAAAAAAAAAAAAAAAAAAAAAAAAAAAAAAAAAAAAAAAAAAAAAAAAAAAAAAAAAAAAAAAAAQAAAAAAAAAAAAAAAAAAAAAAAAAAAAAAAAAAAAAAAAABA",
          "dtype": "f8"
         },
         "yaxis": "y"
        },
        {
         "hovertemplate": "driverref=alonso<br>round=%{x}<br>points=%{y}<extra></extra>",
         "legendgroup": "alonso",
         "marker": {
          "color": "#EF553B",
          "pattern": {
           "shape": ""
          }
         },
         "name": "alonso",
         "orientation": "v",
         "showlegend": true,
         "textposition": "auto",
         "type": "bar",
         "x": {
          "bdata": "AQIDBAUGBwgJCgsM",
          "dtype": "i1"
         },
         "xaxis": "x",
         "y": {
          "bdata": "AAAAAAAAAEAAAAAAAAAkQAAAAAAAABBAAAAAAAAAIEAAAAAAAAAcQAAAAAAAAABAAAAAAAAAAAAAAAAAAAAAAAAAAAAAACBAAAAAAAAAAAAAAAAAAAAAAAAAAAAAABBA",
          "dtype": "f8"
         },
         "yaxis": "y"
        },
        {
         "hovertemplate": "driverref=bottas<br>round=%{x}<br>points=%{y}<extra></extra>",
         "legendgroup": "bottas",
         "marker": {
          "color": "#01C00E",
          "pattern": {
           "shape": ""
          }
         },
         "name": "bottas",
         "orientation": "v",
         "showlegend": true,
         "textposition": "auto",
         "type": "bar",
         "x": {
          "bdata": "AQIDBAUGBwgJCgsM",
          "dtype": "i1"
         },
         "xaxis": "x",
         "y": {
          "bdata": "AAAAAAAAAAAAAAAAAAAAAAAAAAAAAAAAAAAAAAAAAAAAAAAAAAAAAAAAAAAAAAAAAAAAAAAAAAAAAAAAAAAAAAAAAAAAAAAAAAAAAAAAAAAAAAAAAAAAAAAAAAAAAAAA",
          "dtype": "f8"
         },
         "yaxis": "y"
        },
        {
         "hovertemplate": "driverref=gasly<br>round=%{x}<br>points=%{y}<extra></extra>",
         "legendgroup": "gasly",
         "marker": {
          "color": "#F282B4",
          "pattern": {
           "shape": ""
          }
         },
         "name": "gasly",
         "orientation": "v",
         "showlegend": true,
         "textposition": "auto",
         "type": "bar",
         "x": {
          "bdata": "AQIDBAUGBwgJCgsM",
          "dtype": "i1"
         },
         "xaxis": "x",
         "y": {
          "bdata": "AAAAAAAAAAAAAAAAAAAAAAAAAAAAAAAAAAAAAAAAAAAAAAAAAAAAAAAAAAAAAAAAAAAAAAAAAAAAAAAAAADwPwAAAAAAAABAAAAAAAAAAEAAAAAAAADwPwAAAAAAAAAA",
          "dtype": "f8"
         },
         "yaxis": "y"
        },
        {
         "hovertemplate": "driverref=hamilton<br>round=%{x}<br>points=%{y}<extra></extra>",
         "legendgroup": "hamilton",
         "marker": {
          "color": "#00A19B",
          "pattern": {
           "shape": ""
          }
         },
         "name": "hamilton",
         "orientation": "v",
         "showlegend": true,
         "textposition": "auto",
         "type": "bar",
         "x": {
          "bdata": "AQIDBAUGBwgJCgsM",
          "dtype": "i1"
         },
         "xaxis": "x",
         "y": {
          "bdata": "AAAAAAAAGEAAAAAAAAAAQAAAAAAAAAAAAAAAAAAAAEAAAAAAAAAAQAAAAAAAACBAAAAAAAAAIEAAAAAAAAAcQAAAAAAAACpAAAAAAAAALkAAAAAAAAAoQAAAAAAAADlA",
          "dtype": "f8"
         },
         "yaxis": "y"
        },
        {
         "hovertemplate": "driverref=hulkenberg<br>round=%{x}<br>points=%{y}<extra></extra>",
         "legendgroup": "hulkenberg",
         "marker": {
          "color": "#ED1131",
          "pattern": {
           "shape": ""
          }
         },
         "name": "hulkenberg",
         "orientation": "v",
         "showlegend": true,
         "textposition": "auto",
         "type": "bar",
         "x": {
          "bdata": "AQIDBAUGBwgJCgsM",
          "dtype": "i1"
         },
         "xaxis": "x",
         "y": {
          "bdata": "AAAAAAAAAAAAAAAAAADwPwAAAAAAAABAAAAAAAAAAAAAAAAAAADwPwAAAAAAAAAAAAAAAAAAAAAAAAAAAAAAAAAAAAAAAAAAAAAAAAAAAAAAAAAAAAAgQAAAAAAAACBA",
          "dtype": "f8"
         },
         "yaxis": "y"
        },
        {
         "hovertemplate": "driverref=kevin_magnussen<br>round=%{x}<br>points=%{y}<extra></extra>",
         "legendgroup": "kevin_magnussen",
         "marker": {
          "color": "#ED1131",
          "pattern": {
           "shape": ""
          }
         },
         "name": "kevin_magnussen",
         "orientation": "v",
         "showlegend": true,
         "textposition": "auto",
         "type": "bar",
         "x": {
          "bdata": "AQIDBAUGBwgJCgsM",
          "dtype": "i1"
         },
         "xaxis": "x",
         "y": {
          "bdata": "AAAAAAAAAAAAAAAAAAAAAAAAAAAAAPA/AAAAAAAAAAAAAAAAAAAAAAAAAAAAAAAAAAAAAAAAAAAAAAAAAAAAAAAAAAAAAAAAAAAAAAAAAAAAAAAAAAAQQAAAAAAAAAAA",
          "dtype": "f8"
         },
         "yaxis": "y"
        },
        {
         "hovertemplate": "driverref=leclerc<br>round=%{x}<br>points=%{y}<extra></extra>",
         "legendgroup": "leclerc",
         "marker": {
          "color": "#ED1131",
          "pattern": {
           "shape": ""
          }
         },
         "name": "leclerc",
         "orientation": "v",
         "showlegend": true,
         "textposition": "auto",
         "type": "bar",
         "x": {
          "bdata": "AQIDBAUGBwgJCgsM",
          "dtype": "i1"
         },
         "xaxis": "x",
         "y": {
          "bdata": "AAAAAAAAKEAAAAAAAAAwQAAAAAAAADNAAAAAAAAAKEAAAAAAAAAoQAAAAAAAAC5AAAAAAAAALkAAAAAAAAA5QAAAAAAAAAAAAAAAAAAAJEAAAAAAAAAAAAAAAAAAAAAA",
          "dtype": "f8"
         },
         "yaxis": "y"
        },
        {
         "hovertemplate": "driverref=max_verstappen<br>round=%{x}<br>points=%{y}<extra></extra>",
         "legendgroup": "max_verstappen",
         "marker": {
          "color": "#051A3B",
          "pattern": {
           "shape": ""
          }
         },
         "name": "max_verstappen",
         "orientation": "v",
         "showlegend": true,
         "textposition": "auto",
         "type": "bar",
         "x": {
          "bdata": "AQIDBAUGBwgJCgsM",
          "dtype": "i1"
         },
         "xaxis": "x",
         "y": {
          "bdata": "AAAAAAAAOkAAAAAAAAA5QAAAAAAAAAAAAAAAAAAAOkAAAAAAAAA5QAAAAAAAADJAAAAAAAAAOUAAAAAAAAAgQAAAAAAAADlAAAAAAAAAOUAAAAAAAAAkQAAAAAAAADJA",
          "dtype": "f8"
         },
         "yaxis": "y"
        },
        {
         "hovertemplate": "driverref=norris<br>round=%{x}<br>points=%{y}<extra></extra>",
         "legendgroup": "norris",
         "marker": {
          "color": "#F47600",
          "pattern": {
           "shape": ""
          }
         },
         "name": "norris",
         "orientation": "v",
         "showlegend": true,
         "textposition": "auto",
         "type": "bar",
         "x": {
          "bdata": "AQIDBAUGBwgJCgsM",
          "dtype": "i1"
         },
         "xaxis": "x",
         "y": {
          "bdata": "AAAAAAAAIEAAAAAAAAAQQAAAAAAAAC5AAAAAAAAAJEAAAAAAAAAyQAAAAAAAADlAAAAAAAAAMkAAAAAAAAAoQAAAAAAAADJAAAAAAAAAM0AAAAAAAAAAAAAAAAAAAC5A",
          "dtype": "f8"
         },
         "yaxis": "y"
        },
        {
         "hovertemplate": "driverref=ocon<br>round=%{x}<br>points=%{y}<extra></extra>",
         "legendgroup": "ocon",
         "marker": {
          "color": "#F282B4",
          "pattern": {
           "shape": ""
          }
         },
         "name": "ocon",
         "orientation": "v",
         "showlegend": true,
         "textposition": "auto",
         "type": "bar",
         "x": {
          "bdata": "AQIDBAUGBwgJCgsM",
          "dtype": "i1"
         },
         "xaxis": "x",
         "y": {
          "bdata": "AAAAAAAAAAAAAAAAAAAAAAAAAAAAAAAAAAAAAAAAAAAAAAAAAAAAAAAAAAAAAPA/AAAAAAAAAAAAAAAAAAAAAAAAAAAAAPA/AAAAAAAA8D8AAAAAAAAAAAAAAAAAAAAA",
          "dtype": "f8"
         },
         "yaxis": "y"
        },
        {
         "hovertemplate": "driverref=perez<br>round=%{x}<br>points=%{y}<extra></extra>",
         "legendgroup": "perez",
         "marker": {
          "color": "#051A3B",
          "pattern": {
           "shape": ""
          }
         },
         "name": "perez",
         "orientation": "v",
         "showlegend": true,
         "textposition": "auto",
         "type": "bar",
         "x": {
          "bdata": "AQIDBAUGBwgJCgsM",
          "dtype": "i1"
         },
         "xaxis": "x",
         "y": {
          "bdata": "AAAAAAAAMkAAAAAAAAAyQAAAAAAAACRAAAAAAAAAMkAAAAAAAAAuQAAAAAAAAChAAAAAAAAAEEAAAAAAAAAAAAAAAAAAAAAAAAAAAAAAEEAAAAAAAAAYQAAAAAAAAAAA",
          "dtype": "f8"
         },
         "yaxis": "y"
        },
        {
         "hovertemplate": "driverref=piastri<br>round=%{x}<br>points=%{y}<extra></extra>",
         "legendgroup": "piastri",
         "marker": {
          "color": "#F47600",
          "pattern": {
           "shape": ""
          }
         },
         "name": "piastri",
         "orientation": "v",
         "showlegend": true,
         "textposition": "auto",
         "type": "bar",
         "x": {
          "bdata": "AQIDBAUGBwgJCgsM",
          "dtype": "i1"
         },
         "xaxis": "x",
         "y": {
          "bdata": "AAAAAAAAEEAAAAAAAAAoQAAAAAAAAChAAAAAAAAAEEAAAAAAAAAQQAAAAAAAAAAAAAAAAAAAKEAAAAAAAAAyQAAAAAAAACRAAAAAAAAAGEAAAAAAAAAyQAAAAAAAAChA",
          "dtype": "f8"
         },
         "yaxis": "y"
        },
        {
         "hovertemplate": "driverref=ricciardo<br>round=%{x}<br>points=%{y}<extra></extra>",
         "legendgroup": "ricciardo",
         "marker": {
          "color": "#051A3B",
          "pattern": {
           "shape": ""
          }
         },
         "name": "ricciardo",
         "orientation": "v",
         "showlegend": true,
         "textposition": "auto",
         "type": "bar",
         "x": {
          "bdata": "AQIDBAUGBwgJCgsM",
          "dtype": "i1"
         },
         "xaxis": "x",
         "y": {
          "bdata": "AAAAAAAAAAAAAAAAAAAAAAAAAAAAAAAAAAAAAAAAAAAAAAAAAAAAAAAAAAAAAAAAAAAAAAAAAAAAAAAAAAAAAAAAAAAAABBAAAAAAAAAAAAAAAAAAAAAQAAAAAAAAAAA",
          "dtype": "f8"
         },
         "yaxis": "y"
        },
        {
         "hovertemplate": "driverref=russell<br>round=%{x}<br>points=%{y}<extra></extra>",
         "legendgroup": "russell",
         "marker": {
          "color": "#00A19B",
          "pattern": {
           "shape": ""
          }
         },
         "name": "russell",
         "orientation": "v",
         "showlegend": true,
         "textposition": "auto",
         "type": "bar",
         "x": {
          "bdata": "AQIDBAUGBwgJCgsM",
          "dtype": "i1"
         },
         "xaxis": "x",
         "y": {
          "bdata": "AAAAAAAAJEAAAAAAAAAgQAAAAAAAAAAAAAAAAAAAGEAAAAAAAAAgQAAAAAAAABBAAAAAAAAAHEAAAAAAAAAkQAAAAAAAAC5AAAAAAAAAKEAAAAAAAAA5QAAAAAAAAAAA",
          "dtype": "f8"
         },
         "yaxis": "y"
        },
        {
         "hovertemplate": "driverref=sainz<br>round=%{x}<br>points=%{y}<extra></extra>",
         "legendgroup": "sainz",
         "marker": {
          "color": "#ED1131",
          "pattern": {
           "shape": ""
          }
         },
         "name": "sainz",
         "orientation": "v",
         "showlegend": true,
         "textposition": "auto",
         "type": "bar",
         "x": {
          "bdata": "AQMEBQYHCAkKCww=",
          "dtype": "i1"
         },
         "xaxis": "x",
         "y": {
          "bdata": "AAAAAAAALkAAAAAAAAA5QAAAAAAAAC5AAAAAAAAAJEAAAAAAAAAkQAAAAAAAACRAAAAAAAAALkAAAAAAAAAAAAAAAAAAACBAAAAAAAAALkAAAAAAAAAmQA==",
          "dtype": "f8"
         },
         "yaxis": "y"
        },
        {
         "hovertemplate": "driverref=sargeant<br>round=%{x}<br>points=%{y}<extra></extra>",
         "legendgroup": "sargeant",
         "marker": {
          "color": "#00A0DD",
          "pattern": {
           "shape": ""
          }
         },
         "name": "sargeant",
         "orientation": "v",
         "showlegend": true,
         "textposition": "auto",
         "type": "bar",
         "x": {
          "bdata": "AQIEBQYHCAkKCww=",
          "dtype": "i1"
         },
         "xaxis": "x",
         "y": {
          "bdata": "AAAAAAAAAAAAAAAAAAAAAAAAAAAAAAAAAAAAAAAAAAAAAAAAAAAAAAAAAAAAAAAAAAAAAAAAAAAAAAAAAAAAAAAAAAAAAAAAAAAAAAAAAAAAAAAAAAAAAA==",
          "dtype": "f8"
         },
         "yaxis": "y"
        },
        {
         "hovertemplate": "driverref=stroll<br>round=%{x}<br>points=%{y}<extra></extra>",
         "legendgroup": "stroll",
         "marker": {
          "color": "#037A68",
          "pattern": {
           "shape": ""
          }
         },
         "name": "stroll",
         "orientation": "v",
         "showlegend": true,
         "textposition": "auto",
         "type": "bar",
         "x": {
          "bdata": "AQIDBAUGBwgJCgsM",
          "dtype": "i1"
         },
         "xaxis": "x",
         "y": {
          "bdata": "AAAAAAAA8D8AAAAAAAAAAAAAAAAAACBAAAAAAAAAAAAAAAAAAAAAAAAAAAAAAAAAAAAAAAAAAEAAAAAAAAAAAAAAAAAAABhAAAAAAAAAAAAAAAAAAAAAAAAAAAAAABhA",
          "dtype": "f8"
         },
         "yaxis": "y"
        },
        {
         "hovertemplate": "driverref=tsunoda<br>round=%{x}<br>points=%{y}<extra></extra>",
         "legendgroup": "tsunoda",
         "marker": {
          "color": "#051A3B",
          "pattern": {
           "shape": ""
          }
         },
         "name": "tsunoda",
         "orientation": "v",
         "showlegend": true,
         "textposition": "auto",
         "type": "bar",
         "x": {
          "bdata": "AQIDBAUGBwgJCgsM",
          "dtype": "i1"
         },
         "xaxis": "x",
         "y": {
          "bdata": "AAAAAAAAAAAAAAAAAAAAAAAAAAAAABhAAAAAAAAA8D8AAAAAAAAAAAAAAAAAABhAAAAAAAAA8D8AAAAAAAAQQAAAAAAAAAAAAAAAAAAAAAAAAAAAAAAAAAAAAAAAAPA/",
          "dtype": "f8"
         },
         "yaxis": "y"
        },
        {
         "hovertemplate": "driverref=zhou<br>round=%{x}<br>points=%{y}<extra></extra>",
         "legendgroup": "zhou",
         "marker": {
          "color": "#01C00E",
          "pattern": {
           "shape": ""
          }
         },
         "name": "zhou",
         "orientation": "v",
         "showlegend": true,
         "textposition": "auto",
         "type": "bar",
         "x": {
          "bdata": "AQIDBAUGBwgJCgsM",
          "dtype": "i1"
         },
         "xaxis": "x",
         "y": {
          "bdata": "AAAAAAAAAAAAAAAAAAAAAAAAAAAAAAAAAAAAAAAAAAAAAAAAAAAAAAAAAAAAAAAAAAAAAAAAAAAAAAAAAAAAAAAAAAAAAAAAAAAAAAAAAAAAAAAAAAAAAAAAAAAAAAAA",
          "dtype": "f8"
         },
         "yaxis": "y"
        },
        {
         "hovertemplate": "driverref=bearman<br>round=%{x}<br>points=%{y}<extra></extra>",
         "legendgroup": "bearman",
         "marker": {
          "color": "#ED1131",
          "pattern": {
           "shape": ""
          }
         },
         "name": "bearman",
         "orientation": "v",
         "showlegend": true,
         "textposition": "auto",
         "type": "bar",
         "x": {
          "bdata": "Ag==",
          "dtype": "i1"
         },
         "xaxis": "x",
         "y": {
          "bdata": "AAAAAAAAGEA=",
          "dtype": "f8"
         },
         "yaxis": "y"
        }
       ],
       "layout": {
        "barmode": "relative",
        "legend": {
         "title": {
          "text": "driverref"
         },
         "tracegroupgap": 0
        },
        "template": {
         "data": {
          "bar": [
           {
            "error_x": {
             "color": "#2a3f5f"
            },
            "error_y": {
             "color": "#2a3f5f"
            },
            "marker": {
             "line": {
              "color": "#E5ECF6",
              "width": 0.5
             },
             "pattern": {
              "fillmode": "overlay",
              "size": 10,
              "solidity": 0.2
             }
            },
            "type": "bar"
           }
          ],
          "barpolar": [
           {
            "marker": {
             "line": {
              "color": "#E5ECF6",
              "width": 0.5
             },
             "pattern": {
              "fillmode": "overlay",
              "size": 10,
              "solidity": 0.2
             }
            },
            "type": "barpolar"
           }
          ],
          "carpet": [
           {
            "aaxis": {
             "endlinecolor": "#2a3f5f",
             "gridcolor": "white",
             "linecolor": "white",
             "minorgridcolor": "white",
             "startlinecolor": "#2a3f5f"
            },
            "baxis": {
             "endlinecolor": "#2a3f5f",
             "gridcolor": "white",
             "linecolor": "white",
             "minorgridcolor": "white",
             "startlinecolor": "#2a3f5f"
            },
            "type": "carpet"
           }
          ],
          "choropleth": [
           {
            "colorbar": {
             "outlinewidth": 0,
             "ticks": ""
            },
            "type": "choropleth"
           }
          ],
          "contour": [
           {
            "colorbar": {
             "outlinewidth": 0,
             "ticks": ""
            },
            "colorscale": [
             [
              0,
              "#0d0887"
             ],
             [
              0.1111111111111111,
              "#46039f"
             ],
             [
              0.2222222222222222,
              "#7201a8"
             ],
             [
              0.3333333333333333,
              "#9c179e"
             ],
             [
              0.4444444444444444,
              "#bd3786"
             ],
             [
              0.5555555555555556,
              "#d8576b"
             ],
             [
              0.6666666666666666,
              "#ed7953"
             ],
             [
              0.7777777777777778,
              "#fb9f3a"
             ],
             [
              0.8888888888888888,
              "#fdca26"
             ],
             [
              1,
              "#f0f921"
             ]
            ],
            "type": "contour"
           }
          ],
          "contourcarpet": [
           {
            "colorbar": {
             "outlinewidth": 0,
             "ticks": ""
            },
            "type": "contourcarpet"
           }
          ],
          "heatmap": [
           {
            "colorbar": {
             "outlinewidth": 0,
             "ticks": ""
            },
            "colorscale": [
             [
              0,
              "#0d0887"
             ],
             [
              0.1111111111111111,
              "#46039f"
             ],
             [
              0.2222222222222222,
              "#7201a8"
             ],
             [
              0.3333333333333333,
              "#9c179e"
             ],
             [
              0.4444444444444444,
              "#bd3786"
             ],
             [
              0.5555555555555556,
              "#d8576b"
             ],
             [
              0.6666666666666666,
              "#ed7953"
             ],
             [
              0.7777777777777778,
              "#fb9f3a"
             ],
             [
              0.8888888888888888,
              "#fdca26"
             ],
             [
              1,
              "#f0f921"
             ]
            ],
            "type": "heatmap"
           }
          ],
          "histogram": [
           {
            "marker": {
             "pattern": {
              "fillmode": "overlay",
              "size": 10,
              "solidity": 0.2
             }
            },
            "type": "histogram"
           }
          ],
          "histogram2d": [
           {
            "colorbar": {
             "outlinewidth": 0,
             "ticks": ""
            },
            "colorscale": [
             [
              0,
              "#0d0887"
             ],
             [
              0.1111111111111111,
              "#46039f"
             ],
             [
              0.2222222222222222,
              "#7201a8"
             ],
             [
              0.3333333333333333,
              "#9c179e"
             ],
             [
              0.4444444444444444,
              "#bd3786"
             ],
             [
              0.5555555555555556,
              "#d8576b"
             ],
             [
              0.6666666666666666,
              "#ed7953"
             ],
             [
              0.7777777777777778,
              "#fb9f3a"
             ],
             [
              0.8888888888888888,
              "#fdca26"
             ],
             [
              1,
              "#f0f921"
             ]
            ],
            "type": "histogram2d"
           }
          ],
          "histogram2dcontour": [
           {
            "colorbar": {
             "outlinewidth": 0,
             "ticks": ""
            },
            "colorscale": [
             [
              0,
              "#0d0887"
             ],
             [
              0.1111111111111111,
              "#46039f"
             ],
             [
              0.2222222222222222,
              "#7201a8"
             ],
             [
              0.3333333333333333,
              "#9c179e"
             ],
             [
              0.4444444444444444,
              "#bd3786"
             ],
             [
              0.5555555555555556,
              "#d8576b"
             ],
             [
              0.6666666666666666,
              "#ed7953"
             ],
             [
              0.7777777777777778,
              "#fb9f3a"
             ],
             [
              0.8888888888888888,
              "#fdca26"
             ],
             [
              1,
              "#f0f921"
             ]
            ],
            "type": "histogram2dcontour"
           }
          ],
          "mesh3d": [
           {
            "colorbar": {
             "outlinewidth": 0,
             "ticks": ""
            },
            "type": "mesh3d"
           }
          ],
          "parcoords": [
           {
            "line": {
             "colorbar": {
              "outlinewidth": 0,
              "ticks": ""
             }
            },
            "type": "parcoords"
           }
          ],
          "pie": [
           {
            "automargin": true,
            "type": "pie"
           }
          ],
          "scatter": [
           {
            "fillpattern": {
             "fillmode": "overlay",
             "size": 10,
             "solidity": 0.2
            },
            "type": "scatter"
           }
          ],
          "scatter3d": [
           {
            "line": {
             "colorbar": {
              "outlinewidth": 0,
              "ticks": ""
             }
            },
            "marker": {
             "colorbar": {
              "outlinewidth": 0,
              "ticks": ""
             }
            },
            "type": "scatter3d"
           }
          ],
          "scattercarpet": [
           {
            "marker": {
             "colorbar": {
              "outlinewidth": 0,
              "ticks": ""
             }
            },
            "type": "scattercarpet"
           }
          ],
          "scattergeo": [
           {
            "marker": {
             "colorbar": {
              "outlinewidth": 0,
              "ticks": ""
             }
            },
            "type": "scattergeo"
           }
          ],
          "scattergl": [
           {
            "marker": {
             "colorbar": {
              "outlinewidth": 0,
              "ticks": ""
             }
            },
            "type": "scattergl"
           }
          ],
          "scattermap": [
           {
            "marker": {
             "colorbar": {
              "outlinewidth": 0,
              "ticks": ""
             }
            },
            "type": "scattermap"
           }
          ],
          "scattermapbox": [
           {
            "marker": {
             "colorbar": {
              "outlinewidth": 0,
              "ticks": ""
             }
            },
            "type": "scattermapbox"
           }
          ],
          "scatterpolar": [
           {
            "marker": {
             "colorbar": {
              "outlinewidth": 0,
              "ticks": ""
             }
            },
            "type": "scatterpolar"
           }
          ],
          "scatterpolargl": [
           {
            "marker": {
             "colorbar": {
              "outlinewidth": 0,
              "ticks": ""
             }
            },
            "type": "scatterpolargl"
           }
          ],
          "scatterternary": [
           {
            "marker": {
             "colorbar": {
              "outlinewidth": 0,
              "ticks": ""
             }
            },
            "type": "scatterternary"
           }
          ],
          "surface": [
           {
            "colorbar": {
             "outlinewidth": 0,
             "ticks": ""
            },
            "colorscale": [
             [
              0,
              "#0d0887"
             ],
             [
              0.1111111111111111,
              "#46039f"
             ],
             [
              0.2222222222222222,
              "#7201a8"
             ],
             [
              0.3333333333333333,
              "#9c179e"
             ],
             [
              0.4444444444444444,
              "#bd3786"
             ],
             [
              0.5555555555555556,
              "#d8576b"
             ],
             [
              0.6666666666666666,
              "#ed7953"
             ],
             [
              0.7777777777777778,
              "#fb9f3a"
             ],
             [
              0.8888888888888888,
              "#fdca26"
             ],
             [
              1,
              "#f0f921"
             ]
            ],
            "type": "surface"
           }
          ],
          "table": [
           {
            "cells": {
             "fill": {
              "color": "#EBF0F8"
             },
             "line": {
              "color": "white"
             }
            },
            "header": {
             "fill": {
              "color": "#C8D4E3"
             },
             "line": {
              "color": "white"
             }
            },
            "type": "table"
           }
          ]
         },
         "layout": {
          "annotationdefaults": {
           "arrowcolor": "#2a3f5f",
           "arrowhead": 0,
           "arrowwidth": 1
          },
          "autotypenumbers": "strict",
          "coloraxis": {
           "colorbar": {
            "outlinewidth": 0,
            "ticks": ""
           }
          },
          "colorscale": {
           "diverging": [
            [
             0,
             "#8e0152"
            ],
            [
             0.1,
             "#c51b7d"
            ],
            [
             0.2,
             "#de77ae"
            ],
            [
             0.3,
             "#f1b6da"
            ],
            [
             0.4,
             "#fde0ef"
            ],
            [
             0.5,
             "#f7f7f7"
            ],
            [
             0.6,
             "#e6f5d0"
            ],
            [
             0.7,
             "#b8e186"
            ],
            [
             0.8,
             "#7fbc41"
            ],
            [
             0.9,
             "#4d9221"
            ],
            [
             1,
             "#276419"
            ]
           ],
           "sequential": [
            [
             0,
             "#0d0887"
            ],
            [
             0.1111111111111111,
             "#46039f"
            ],
            [
             0.2222222222222222,
             "#7201a8"
            ],
            [
             0.3333333333333333,
             "#9c179e"
            ],
            [
             0.4444444444444444,
             "#bd3786"
            ],
            [
             0.5555555555555556,
             "#d8576b"
            ],
            [
             0.6666666666666666,
             "#ed7953"
            ],
            [
             0.7777777777777778,
             "#fb9f3a"
            ],
            [
             0.8888888888888888,
             "#fdca26"
            ],
            [
             1,
             "#f0f921"
            ]
           ],
           "sequentialminus": [
            [
             0,
             "#0d0887"
            ],
            [
             0.1111111111111111,
             "#46039f"
            ],
            [
             0.2222222222222222,
             "#7201a8"
            ],
            [
             0.3333333333333333,
             "#9c179e"
            ],
            [
             0.4444444444444444,
             "#bd3786"
            ],
            [
             0.5555555555555556,
             "#d8576b"
            ],
            [
             0.6666666666666666,
             "#ed7953"
            ],
            [
             0.7777777777777778,
             "#fb9f3a"
            ],
            [
             0.8888888888888888,
             "#fdca26"
            ],
            [
             1,
             "#f0f921"
            ]
           ]
          },
          "colorway": [
           "#636efa",
           "#EF553B",
           "#00cc96",
           "#ab63fa",
           "#FFA15A",
           "#19d3f3",
           "#FF6692",
           "#B6E880",
           "#FF97FF",
           "#FECB52"
          ],
          "font": {
           "color": "#2a3f5f"
          },
          "geo": {
           "bgcolor": "white",
           "lakecolor": "white",
           "landcolor": "#E5ECF6",
           "showlakes": true,
           "showland": true,
           "subunitcolor": "white"
          },
          "hoverlabel": {
           "align": "left"
          },
          "hovermode": "closest",
          "mapbox": {
           "style": "light"
          },
          "paper_bgcolor": "white",
          "plot_bgcolor": "#E5ECF6",
          "polar": {
           "angularaxis": {
            "gridcolor": "white",
            "linecolor": "white",
            "ticks": ""
           },
           "bgcolor": "#E5ECF6",
           "radialaxis": {
            "gridcolor": "white",
            "linecolor": "white",
            "ticks": ""
           }
          },
          "scene": {
           "xaxis": {
            "backgroundcolor": "#E5ECF6",
            "gridcolor": "white",
            "gridwidth": 2,
            "linecolor": "white",
            "showbackground": true,
            "ticks": "",
            "zerolinecolor": "white"
           },
           "yaxis": {
            "backgroundcolor": "#E5ECF6",
            "gridcolor": "white",
            "gridwidth": 2,
            "linecolor": "white",
            "showbackground": true,
            "ticks": "",
            "zerolinecolor": "white"
           },
           "zaxis": {
            "backgroundcolor": "#E5ECF6",
            "gridcolor": "white",
            "gridwidth": 2,
            "linecolor": "white",
            "showbackground": true,
            "ticks": "",
            "zerolinecolor": "white"
           }
          },
          "shapedefaults": {
           "line": {
            "color": "#2a3f5f"
           }
          },
          "ternary": {
           "aaxis": {
            "gridcolor": "white",
            "linecolor": "white",
            "ticks": ""
           },
           "baxis": {
            "gridcolor": "white",
            "linecolor": "white",
            "ticks": ""
           },
           "bgcolor": "#E5ECF6",
           "caxis": {
            "gridcolor": "white",
            "linecolor": "white",
            "ticks": ""
           }
          },
          "title": {
           "x": 0.05
          },
          "xaxis": {
           "automargin": true,
           "gridcolor": "white",
           "linecolor": "white",
           "ticks": "",
           "title": {
            "standoff": 15
           },
           "zerolinecolor": "white",
           "zerolinewidth": 2
          },
          "yaxis": {
           "automargin": true,
           "gridcolor": "white",
           "linecolor": "white",
           "ticks": "",
           "title": {
            "standoff": 15
           },
           "zerolinecolor": "white",
           "zerolinewidth": 2
          }
         }
        },
        "title": {
         "text": "2024 Season Progression by Round"
        },
        "xaxis": {
         "anchor": "y",
         "domain": [
          0,
          1
         ],
         "title": {
          "text": "round"
         }
        },
        "yaxis": {
         "anchor": "x",
         "domain": [
          0,
          1
         ],
         "title": {
          "text": "points"
         }
        }
       }
      },
      "image/png": "[encoded data removed]"
     },
     "metadata": {},
     "output_type": "display_data"
    }
   ],
   "source": [
    "# Circuit performance analysis\n",
    "circuit_perf = (\n",
    "    df.groupby('circuitref')['points']\n",
    "    .mean().sort_values(ascending=False)\n",
    "    .reset_index()\n",
    ")\n",
    "fig_circ = px.bar(\n",
    "    circuit_perf.head(20),\n",
    "    x='circuitref', y='points',\n",
    "    title=\"Top Circuits by Average Points\"\n",
    ")\n",
    "fig_circ.write_html(\"results/visualizations/dashboard3_circuit_perf.html\")\n",
    "fig_circ.show()\n",
    "\n",
    "# Strategy effectiveness (grid vs finish)\n",
    "df_2024 = df[df['year'] == 2024].copy()\n",
    "\n",
    "# Memastikan kolom 'pitstops' ada, kalau tidak, buat proxy dari laps vs grid vs finish\n",
    "if 'pitstops' not in df_2024.columns:\n",
    "    print(\"Kolom 'pitstops' tidak ditemukan — menggunakan proxy (laps/grid) sebagai indikator strategi.\")\n",
    "    df_2024['pitstops'] = (df_2024['laps'] / df_2024['grid']).fillna(0)\n",
    "\n",
    "strategy_eff = (\n",
    "    df_2024.groupby('constructorref')\n",
    "    .agg(avg_pitstops=('pitstops', 'mean'),\n",
    "         avg_points=('points', 'mean'),\n",
    "         avg_position=('position', 'mean'))\n",
    "    .reset_index()\n",
    ")\n",
    "\n",
    "plt.figure(figsize=(8, 6))\n",
    "sns.scatterplot(\n",
    "    data=strategy_eff,\n",
    "    x='avg_pitstops',\n",
    "    y='avg_points',\n",
    "    hue='constructorref',\n",
    "    s=100,\n",
    "    palette='tab10'\n",
    ")\n",
    "plt.title(\"Pit Stop Strategy Effectiveness — Season 2024\")\n",
    "plt.xlabel(\"Average Pit Stops (Proxy)\")\n",
    "plt.ylabel(\"Average Points Scored\")\n",
    "plt.legend(bbox_to_anchor=(1.05, 1), loc='upper left')\n",
    "plt.tight_layout()\n",
    "plt.show()\n",
    "\n",
    "# Real-Time Season Tracking (year: 2024)\n",
    "season_2024 = df[df['year'] == 2024]\n",
    "color_map_season_2024 = {\n",
    "    'albon': '#00A0DD',\n",
    "    'Alonso': '#037A68',\n",
    "    'bottas': '#01C00E',\n",
    "    'gasly': '#F282B4',\n",
    "    'hamilton': '#00A19B',\n",
    "    'hulkenberg': '#ED1131',\n",
    "    'kevin_magnussen': '#ED1131',\n",
    "    'leclerc': '#ED1131',\n",
    "    'max_verstappen': '#051A3B',\n",
    "    'norris': '#F47600',\n",
    "    'ocon': '#F282B4',\n",
    "    'perez': '#051A3B',\n",
    "    'piastri': '#F47600',\n",
    "    'ricciardo': '#051A3B',\n",
    "    'russell': '#00A19B',\n",
    "    'sainz': '#ED1131',\n",
    "    'sargeant': '#00A0DD',\n",
    "    'stroll': '#037A68',\n",
    "    'tsunoda': '#051A3B',\n",
    "    'zhou': '#01C00E',\n",
    "    'bearman': '#ED1131'\n",
    "}\n",
    "\n",
    "fig_season = px.bar(\n",
    "    season_2024.groupby(['round','driverref'])['points'].sum().reset_index(),\n",
    "    x='round', y='points', color='driverref',\n",
    "    title=\"2024 Season Progression by Round\",\n",
    "    color_discrete_map=color_map_season_2024\n",
    ")\n",
    "fig_season.write_html(\"results/visualizations/dashboard3_season_2024.html\")\n",
    "fig_season.show()"
   ]
  }
 ],
 "metadata": {
  "kernelspec": {
   "display_name": "Python 3 (ipykernel)",
   "language": "python",
   "name": "python3"
  },
  "language_info": {
   "codemirror_mode": {
    "name": "ipython",
    "version": 3
   },
   "file_extension": ".py",
   "mimetype": "text/x-python",
   "name": "python",
   "nbconvert_exporter": "python",
   "pygments_lexer": "ipython3",
   "version": "3.13.7"
  }
 },
 "nbformat": 4,
 "nbformat_minor": 5
}
